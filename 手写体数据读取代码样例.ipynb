{
 "cells": [
  {
   "cell_type": "markdown",
   "metadata": {},
   "source": [
    "#### 手写体数据读取代码样例"
   ]
  },
  {
   "cell_type": "code",
   "execution_count": 2,
   "metadata": {},
   "outputs": [
    {
     "data": {
      "text/plain": [
       "(1797, 64)"
      ]
     },
     "execution_count": 2,
     "metadata": {},
     "output_type": "execute_result"
    }
   ],
   "source": [
    "# 从sklearn.datasets里导入手写体数字加载器。\n",
    "from sklearn.datasets import load_digits\n",
    "# 从通过数据加载器获得手写体数字的数码图像数据并存储在digits变量中。\n",
    "digits=load_digits()\n",
    "#检视数据规模和特征维度。\n",
    "digits.data.shape"
   ]
  },
  {
   "cell_type": "markdown",
   "metadata": {},
   "source": [
    "#### 手写体数据分割代码样例"
   ]
  },
  {
   "cell_type": "code",
   "execution_count": 6,
   "metadata": {},
   "outputs": [
    {
     "data": {
      "text/plain": [
       "(450,)"
      ]
     },
     "execution_count": 6,
     "metadata": {},
     "output_type": "execute_result"
    }
   ],
   "source": [
    "# 从sklearn.cross_validation中导入train_test_split用于数据分割。\n",
    "from sklearn.cross_validation import train_test_split\n",
    "# 随机选取75%的数据作为训练样本，其余25%的数据作为测试样本\n",
    "X_train, X_test, y_train, y_test = train_test_split(digits.data, digits.target, test_size=0.25, random_state=33)\n",
    "#  分别检视训练与测试数据规模\n",
    "y_train.shape\n",
    "y_test.shape"
   ]
  },
  {
   "cell_type": "markdown",
   "metadata": {},
   "source": [
    "#### 使用支持向量机（分类）对手写体数字图像进行识别"
   ]
  },
  {
   "cell_type": "code",
   "execution_count": 14,
   "metadata": {},
   "outputs": [],
   "source": [
    "# 从仍然需要对训练和测试的特征数据进行标准化。\n",
    "from sklearn.preprocessing import StandardScaler\n",
    "# 从sklearn.svm里导入基于线性假设的支持向量机分类器 LinearnSVC\n",
    "from sklearn.svm import LinearSVC\n",
    "\n",
    "# 从仍然需要对训练和测试的特征数据进行标准化。\n",
    "ss=StandardScaler()\n",
    "X_train=ss.fit_transform(X_train)\n",
    "X_test=ss.fit_transform(X_test)\n",
    "\n",
    "# 初始化线性假设的支持向量机分类器 LinearSVC。\n",
    "lsvc=LinearSVC()\n",
    "# 进行模型训练\n",
    "lsvc.fit(X_train, y_train)\n",
    "# 利用训练好的模型对测试样本的数字类别进行预测，预测结果存储在变量Y_predict中。\n",
    "y_predict=lsvc.predict(X_test)"
   ]
  },
  {
   "cell_type": "markdown",
   "metadata": {},
   "source": [
    "#### 支持向量机（分类）模型对手写体数码图像识别能力的评估"
   ]
  },
  {
   "cell_type": "code",
   "execution_count": 13,
   "metadata": {},
   "outputs": [
    {
     "name": "stdout",
     "output_type": "stream",
     "text": [
      "The Accuracy of Linear SVC is 0.9488888888888889\n"
     ]
    }
   ],
   "source": [
    "# 使用模型自带的评估函数进行准确性测评\n",
    "print 'The Accuracy of Linear SVC is', lsvc.score(X_test, y_test)"
   ]
  },
  {
   "cell_type": "code",
   "execution_count": 15,
   "metadata": {},
   "outputs": [
    {
     "name": "stdout",
     "output_type": "stream",
     "text": [
      "             precision    recall  f1-score   support\n",
      "\n",
      "          0       0.92      0.97      0.94        35\n",
      "          1       0.95      0.98      0.96        54\n",
      "          2       0.98      1.00      0.99        44\n",
      "          3       0.93      0.93      0.93        46\n",
      "          4       0.97      1.00      0.99        35\n",
      "          5       0.94      0.94      0.94        48\n",
      "          6       0.96      0.98      0.97        51\n",
      "          7       0.90      1.00      0.95        35\n",
      "          8       0.98      0.83      0.90        58\n",
      "          9       0.95      0.91      0.93        44\n",
      "\n",
      "avg / total       0.95      0.95      0.95       450\n",
      "\n"
     ]
    }
   ],
   "source": [
    "# 依然使用sklearn.metrics 里面的 classification_report 模块对预测结果做更加详细的分析。\n",
    "from sklearn.metrics import classification_report\n",
    "print classification_report(y_test, y_predict, target_names=digits.target_names.astype(str))"
   ]
  },
  {
   "cell_type": "code",
   "execution_count": null,
   "metadata": {},
   "outputs": [],
   "source": []
  }
 ],
 "metadata": {
  "kernelspec": {
   "display_name": "Python 2",
   "language": "python",
   "name": "python2"
  },
  "language_info": {
   "codemirror_mode": {
    "name": "ipython",
    "version": 2
   },
   "file_extension": ".py",
   "mimetype": "text/x-python",
   "name": "python",
   "nbconvert_exporter": "python",
   "pygments_lexer": "ipython2",
   "version": "2.7.14"
  }
 },
 "nbformat": 4,
 "nbformat_minor": 2
}
