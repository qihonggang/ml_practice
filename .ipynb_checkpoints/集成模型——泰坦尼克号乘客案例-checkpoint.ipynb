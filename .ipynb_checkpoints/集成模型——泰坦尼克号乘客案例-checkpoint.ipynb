{
 "cells": [
  {
   "cell_type": "markdown",
   "metadata": {},
   "source": [
    "#### 集成模型对泰坦尼克号乘客是否生还的预测"
   ]
  },
  {
   "cell_type": "code",
   "execution_count": 14,
   "metadata": {},
   "outputs": [],
   "source": [
    "# 导入pandas,并且重命名为pd。\n",
    "import pandas as pd\n",
    "\n",
    "# 通过互联网读取泰坦尼克号乘客档案，并存储在变量titanic中\n",
    "titanic=pd.read_csv('http://biostat.mc.vanderbilt.edu/wiki/pub/Main/DataSets/titanic.txt')\n",
    "\n",
    "# 人工选取pclass,age以及sex作为判别乘客是否能够生还的特征。\n",
    "X=titanic[['pclass', 'age', 'sex']]\n",
    "y=titanic['survived']\n",
    "\n",
    "#对于缺失的年龄信息，我们使用全体乘客的平均年龄代替，这样可以在保证顺利训练模型的同时，尽可能不影响预测任务。\n",
    "X['age'].fillna(X['age'].mean(), inplace=True)\n",
    "\n",
    "# 对原始数据进行分割，25%的乘客数据用于测试。\n",
    "from sklearn.cross_validation import train_test_split\n",
    "X_train, X_test, y_train, y_test=train_test_split(X, y, test_size=0.25, random_state=33)\n",
    "\n",
    "# 对类型特征进行转化，成为特征向量。\n",
    "from sklearn.feature_extraction import DictVectorizer\n",
    "vec=DictVectorizer(sparse=False)\n",
    "X_train=vec.fit_transform(X_train.to_dict(orient='record'))\n",
    "X_test=vec.transform(X_test.to_dict(orient='record'))\n",
    "\n",
    "# 使用单一决策树进行模型训练以及预测分析。\n",
    "from sklearn.tree import DecisionTreeClassifier\n",
    "dtc=DecisionTreeClassifier()\n",
    "dtc.fit(X_train, y_train)\n",
    "dtc_y_pred=dtc.predict(X_test)\n",
    "\n",
    "# 使用随机森林分类器进行集成模型的训练以及预测分析\n",
    "from sklearn.ensemble import RandomForestClassifier\n",
    "rfc=RandomForestClassifier()\n",
    "rfc.fit(X_train, y_train)\n",
    "rfc_y_pred=rfc.predict(X_test)\n",
    "\n",
    "# 使用梯度提升决策树进行集成模型的训练以及预测分析。\n",
    "from sklearn.ensemble import GradientBoostingClassifier\n",
    "gbc=GradientBoostingClassifier()\n",
    "gbc.fit(X_train, y_train)\n",
    "gbc_y_pred=gbc.predict(X_test)"
   ]
  },
  {
   "cell_type": "markdown",
   "metadata": {},
   "source": [
    "#### 集成模型对泰坦尼克号乘客是否生还的预测性能"
   ]
  },
  {
   "cell_type": "code",
   "execution_count": 17,
   "metadata": {},
   "outputs": [
    {
     "name": "stdout",
     "output_type": "stream",
     "text": [
      "The accuracy of decision tree is 0.7811550151975684\n",
      "             precision    recall  f1-score   support\n",
      "\n",
      "          0       0.91      0.78      0.84       236\n",
      "          1       0.58      0.80      0.67        93\n",
      "\n",
      "avg / total       0.81      0.78      0.79       329\n",
      "\n",
      "The accuracy of random forest classsifier is 0.7750759878419453\n",
      "             precision    recall  f1-score   support\n",
      "\n",
      "          0       0.90      0.77      0.83       236\n",
      "          1       0.57      0.78      0.66        93\n",
      "\n",
      "avg / total       0.81      0.78      0.78       329\n",
      "\n",
      "The accuracy of gradient tree boosting is 0.790273556231003\n",
      "             precision    recall  f1-score   support\n",
      "\n",
      "          0       0.92      0.78      0.84       239\n",
      "          1       0.58      0.82      0.68        90\n",
      "\n",
      "avg / total       0.83      0.79      0.80       329\n",
      "\n"
     ]
    }
   ],
   "source": [
    "# 从sklearn.metrics导入classification_report。\n",
    "from sklearn.metrics import classification_report\n",
    "\n",
    "# 输出单一决策树在测试集上的分类准确性，以及更加详细的精确率、召回率、F1指标。\n",
    "print 'The accuracy of decision tree is', dtc.score(X_test, y_test)\n",
    "print classification_report(dtc_y_pred, y_test)\n",
    "\n",
    "# 输出随机森林分类器在测试集上的分类准确性，以及更加详细的精确率、召回率、F1指标。\n",
    "print 'The accuracy of random forest classsifier is',rfc.score(X_test, y_test)\n",
    "print classification_report(rfc_y_pred, y_test)\n",
    "\n",
    "# 输出梯度提升决策树在测试机上的分类准确性，以及更加详细的精确率、召回率、F1指标。\n",
    "print 'The accuracy of gradient tree boosting is', gbc.score(X_test, y_test)\n",
    "print classification_report(gbc_y_pred, y_test)"
   ]
  }
 ],
 "metadata": {
  "kernelspec": {
   "display_name": "Python 2",
   "language": "python",
   "name": "python2"
  },
  "language_info": {
   "codemirror_mode": {
    "name": "ipython",
    "version": 2
   },
   "file_extension": ".py",
   "mimetype": "text/x-python",
   "name": "python",
   "nbconvert_exporter": "python",
   "pygments_lexer": "ipython2",
   "version": "2.7.14"
  }
 },
 "nbformat": 4,
 "nbformat_minor": 2
}
