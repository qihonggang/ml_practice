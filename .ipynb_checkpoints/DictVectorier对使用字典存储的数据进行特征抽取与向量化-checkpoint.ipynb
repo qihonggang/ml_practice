{
 "cells": [
  {
   "cell_type": "markdown",
   "metadata": {},
   "source": [
    "#### DictVectorier对使用字典存储的数据进行特征抽取与向量化"
   ]
  },
  {
   "cell_type": "code",
   "execution_count": 5,
   "metadata": {},
   "outputs": [
    {
     "name": "stdout",
     "output_type": "stream",
     "text": [
      "[[ 1.  0.  0. 33.]\n",
      " [ 0.  1.  0. 12.]\n",
      " [ 0.  0.  1. 18.]]\n",
      "['city=Dubai', 'city=London', 'city=San Fransisco', 'temperature']\n"
     ]
    }
   ],
   "source": [
    "# 定义一组字典列表，用来表示多个数据样本（每个字典代表一个数据样本）。\n",
    "measurements=[{'city': 'Dubai', 'temperature': 33.},{'city': 'London', 'temperature': 12.}, {'city': 'San Fransisco', 'temperature': 18.}]\n",
    "# 从sklearn.feature_extraction 导入DictVectorizer\n",
    "from sklearn.feature_extraction import DictVectorizer\n",
    "# 初始化DicCectorizer特征抽取器\n",
    "vec=DictVectorizer()\n",
    "# 输出转化之后的特征矩阵\n",
    "print vec.fit_transform(measurements).toarray()\n",
    "# 输出各个维度的特征含义\n",
    "print vec.get_feature_names()"
   ]
  }
 ],
 "metadata": {
  "kernelspec": {
   "display_name": "Python 2",
   "language": "python",
   "name": "python2"
  },
  "language_info": {
   "codemirror_mode": {
    "name": "ipython",
    "version": 2
   },
   "file_extension": ".py",
   "mimetype": "text/x-python",
   "name": "python",
   "nbconvert_exporter": "python",
   "pygments_lexer": "ipython2",
   "version": "2.7.14"
  }
 },
 "nbformat": 4,
 "nbformat_minor": 2
}
