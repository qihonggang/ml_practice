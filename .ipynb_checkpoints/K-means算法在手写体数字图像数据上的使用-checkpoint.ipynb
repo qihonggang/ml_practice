{
 "cells": [
  {
   "cell_type": "markdown",
   "metadata": {},
   "source": [
    "##### K-means算法在手写体数字图像数据上的使用示例"
   ]
  },
  {
   "cell_type": "code",
   "execution_count": 8,
   "metadata": {},
   "outputs": [],
   "source": [
    "# 分别导入numpy,matplotlib以及pandas，用于数学运算，作图以及数据分析。\n",
    "import numpy as np\n",
    "import matplotlib.pyplot as plt\n",
    "import pandas as pd\n",
    "\n",
    "# 使用pandas 分别读取训练数据与测试数据集。\n",
    "digits_train = pd.read_csv('https://archive.ics.uci.edu/ml/machine-learning-databases/optdigits/optdigits.tra', header=None)\n",
    "digits_test = pd.read_csv('https://archive.ics.uci.edu/ml/machine-learning-databases/optdigits/optdigits.tes', header=None)\n",
    "\n",
    "\n",
    "# 从训练与测试数据集上都分离出64维度的像素特征与1维度的数字目标。\n",
    "X_train=digits_train[np.arange(64)]\n",
    "y_train=digits_train[64]\n",
    "\n",
    "X_test=digits_test[np.arange(64)]\n",
    "y_test=digits_test[64]\n",
    "\n",
    "# 从sklearn.cluster中导入KMEANS模型\n",
    "from sklearn.cluster import KMeans\n",
    "\n",
    "# 初始化KMeans模型，并设置聚类中心数量为10.\n",
    "kmeans = KMeans(n_clusters=10)\n",
    "kmeans.fit(X_train)\n",
    "\n",
    "# 逐条判断每个测试图像所属的聚类中心。\n",
    "y_pred=kmeans.predict(X_test)"
   ]
  },
  {
   "cell_type": "markdown",
   "metadata": {},
   "source": [
    "##### 使用ARI进行K-means聚类性能评估"
   ]
  },
  {
   "cell_type": "code",
   "execution_count": 10,
   "metadata": {},
   "outputs": [
    {
     "name": "stdout",
     "output_type": "stream",
     "text": [
      "0.6677731542678766\n"
     ]
    }
   ],
   "source": [
    "# 从sklearn导入度量函数库 metrics。\n",
    "from sklearn import metrics\n",
    "# 使用ARI进行KMearns聚类性能评估\n",
    "print metrics.adjusted_rand_score(y_test, y_pred)"
   ]
  }
 ],
 "metadata": {
  "kernelspec": {
   "display_name": "Python 2",
   "language": "python",
   "name": "python2"
  },
  "language_info": {
   "codemirror_mode": {
    "name": "ipython",
    "version": 2
   },
   "file_extension": ".py",
   "mimetype": "text/x-python",
   "name": "python",
   "nbconvert_exporter": "python",
   "pygments_lexer": "ipython2",
   "version": "2.7.14"
  }
 },
 "nbformat": 4,
 "nbformat_minor": 2
}
