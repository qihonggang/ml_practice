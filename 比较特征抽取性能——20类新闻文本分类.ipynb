{
 "cells": [
  {
   "cell_type": "markdown",
   "metadata": {},
   "source": [
    "#### 使用CountVectorizer并且不去掉停用词的条件瞎，对文本特征进行量化的朴素贝叶斯分类性能测试"
   ]
  },
  {
   "cell_type": "code",
   "execution_count": 7,
   "metadata": {},
   "outputs": [
    {
     "name": "stdout",
     "output_type": "stream",
     "text": [
      "The accuracy of classifying 20newsgroups using Naive Bayes(CountVectorizer without filtering stopwords): 0.8397707979626485\n",
      "                          precision    recall  f1-score   support\n",
      "\n",
      "             alt.atheism       0.86      0.86      0.86       201\n",
      "           comp.graphics       0.59      0.86      0.70       250\n",
      " comp.os.ms-windows.misc       0.89      0.10      0.17       248\n",
      "comp.sys.ibm.pc.hardware       0.60      0.88      0.72       240\n",
      "   comp.sys.mac.hardware       0.93      0.78      0.85       242\n",
      "          comp.windows.x       0.82      0.84      0.83       263\n",
      "            misc.forsale       0.91      0.70      0.79       257\n",
      "               rec.autos       0.89      0.89      0.89       238\n",
      "         rec.motorcycles       0.98      0.92      0.95       276\n",
      "      rec.sport.baseball       0.98      0.91      0.95       251\n",
      "        rec.sport.hockey       0.93      0.99      0.96       233\n",
      "               sci.crypt       0.86      0.98      0.91       238\n",
      "         sci.electronics       0.85      0.88      0.86       249\n",
      "                 sci.med       0.92      0.94      0.93       245\n",
      "               sci.space       0.89      0.96      0.92       221\n",
      "  soc.religion.christian       0.78      0.96      0.86       232\n",
      "      talk.politics.guns       0.88      0.96      0.92       251\n",
      "   talk.politics.mideast       0.90      0.98      0.94       231\n",
      "      talk.politics.misc       0.79      0.89      0.84       188\n",
      "      talk.religion.misc       0.93      0.44      0.60       158\n",
      "\n",
      "             avg / total       0.86      0.84      0.82      4712\n",
      "\n"
     ]
    }
   ],
   "source": [
    "# 从sklearn.datasets里导入20类新闻文本数据抓取器。\n",
    "from sklearn.datasets import fetch_20newsgroups\n",
    "# 从互联网上即时下载新闻样本，subset='all'参数代表下载全部近2万条文本存储在变量news中。\n",
    "news=fetch_20newsgroups(subset='all')\n",
    "\n",
    "# 从sklearn.cross_validation导入train_test_split模块用于分割数据集。\n",
    "from sklearn.cross_validation import train_test_split\n",
    "# 对news中的数据data进行分割，25%的文本用作测试集；75%作为训练集。\n",
    "X_train, X_test, y_train, y_test=train_test_split(news.data, news.target, test_size=0.25, random_state=33)\n",
    "\n",
    "# 从sklearn.feature_extraction.text 里导入CountVectorizer\n",
    "from sklearn.feature_extraction.text import CountVectorizer\n",
    "# 采用默认的配置对CountVectorizer进行初始化（默认配置不去除英文停用词），并且赋值给变量count_vec。\n",
    "count_vec=CountVectorizer()\n",
    "\n",
    "# 只使用词频统计的方式将原始训练和测试文本转化为特征向量。\n",
    "X_count_train=count_vec.fit_transform(X_train)\n",
    "X_count_test=count_vec.transform(X_test)\n",
    "\n",
    "# 从skearn.naive_bayes里导入朴素贝叶斯分类器。\n",
    "from sklearn.naive_bayes import MultinomialNB\n",
    "# 使用默认的配置对分类器进行初始化。\n",
    "mnb_count=MultinomialNB()\n",
    "# 使用朴素贝叶斯分类器，对CountVectorizer（不去除停用词）后的训练样本进行参数学习。\n",
    "mnb_count.fit(X_count_train,y_train)\n",
    "\n",
    "# 输出模型准确性结果。\n",
    "print 'The accuracy of classifying 20newsgroups using Naive Bayes(CountVectorizer without filtering stopwords):', mnb_count.score(X_count_test,y_test)\n",
    "# 将分类预测的结果存储在变量y_count_predict中。\n",
    "y_count_predict=mnb_count.predict(X_count_test)\n",
    "# 从sklearn.metrics导入classification_report。\n",
    "from sklearn.metrics import classification_report\n",
    "# 输出更加详细的其他评价分类性能的指标。\n",
    "print classification_report(y_test, y_count_predict, target_names=news.target_names)"
   ]
  }
 ],
 "metadata": {
  "kernelspec": {
   "display_name": "Python 2",
   "language": "python",
   "name": "python2"
  },
  "language_info": {
   "codemirror_mode": {
    "name": "ipython",
    "version": 2
   },
   "file_extension": ".py",
   "mimetype": "text/x-python",
   "name": "python",
   "nbconvert_exporter": "python",
   "pygments_lexer": "ipython2",
   "version": "2.7.14"
  }
 },
 "nbformat": 4,
 "nbformat_minor": 2
}
