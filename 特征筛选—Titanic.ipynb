{
 "cells": [
  {
   "cell_type": "markdown",
   "metadata": {},
   "source": [
    "##### 使用Titanic数据集，通过特征筛选的方法一步步提升决策树的预测性能"
   ]
  },
  {
   "cell_type": "code",
   "execution_count": 9,
   "metadata": {},
   "outputs": [
    {
     "name": "stdout",
     "output_type": "stream",
     "text": [
      "474\n"
     ]
    }
   ],
   "source": [
    "# 导入pandas并且更名为pd\n",
    "import pandas as pd\n",
    "# 从互联网读取 titanic 数据\n",
    "titanic = pd.read_csv('http://biostat.mc.vanderbilt.edu/wiki/pub/Main/DataSets/titanic.txt')\n",
    "\n",
    "# 分离数据特征与预测目标\n",
    "y=titanic['survived']\n",
    "X=titanic.drop(['row.names', 'name', 'survived'], axis=1)\n",
    "\n",
    "# 对缺失数据进行填充\n",
    "X['age'].fillna(X['age'].mean(), inplace=True)\n",
    "X.fillna('UNKNOWN', inplace=True)\n",
    "\n",
    "# 分割数据，依然采样25%用于测试。\n",
    "from sklearn.cross_validation import train_test_split\n",
    "X_train, X_test, y_train, y_test=train_test_split(X, y, test_size=0.25, random_state=33)\n",
    "\n",
    "# 类别型特征向量化。\n",
    "from sklearn.feature_extraction import DictVectorizer\n",
    "vec=DictVectorizer()\n",
    "X_train=vec.fit_transform(X_train.to_dict(orient='record'))\n",
    "X_test=vec.transform(X_test.to_dict(orient='record'))\n",
    "\n",
    "# 输出处理后特征向量的维度。\n",
    "print len(vec.feature_names_)"
   ]
  },
  {
   "cell_type": "code",
   "execution_count": 11,
   "metadata": {},
   "outputs": [
    {
     "data": {
      "text/plain": [
       "0.8237082066869301"
      ]
     },
     "execution_count": 11,
     "metadata": {},
     "output_type": "execute_result"
    }
   ],
   "source": [
    "# 使用决策树模型依靠所有特征进行预测，并作性能评估。\n",
    "from sklearn.tree import DecisionTreeClassifier\n",
    "dt = DecisionTreeClassifier(criterion='entropy')\n",
    "dt.fit(X_train, y_train)\n",
    "dt.score(X_test, y_test)"
   ]
  },
  {
   "cell_type": "code",
   "execution_count": 14,
   "metadata": {},
   "outputs": [
    {
     "data": {
      "text/plain": [
       "0.8115501519756839"
      ]
     },
     "execution_count": 14,
     "metadata": {},
     "output_type": "execute_result"
    }
   ],
   "source": [
    "# 从sklearn 导入特征筛选器。\n",
    "from sklearn import feature_selection\n",
    "# 筛选前 20% 的特征， 使用相同配置的决策树模型进行预测，并且评估性能。\n",
    "fs=feature_selection.SelectPercentile(feature_selection.chi2, percentile=20)\n",
    "X_train_fs=fs.fit_transform(X_train, y_train)\n",
    "dt.fit(X_train_fs, y_train)\n",
    "X_test_fs=fs.transform(X_test)\n",
    "dt.score(X_test_fs, y_test)\n"
   ]
  },
  {
   "cell_type": "code",
   "execution_count": 40,
   "metadata": {},
   "outputs": [
    {
     "name": "stdout",
     "output_type": "stream",
     "text": [
      "[0.85063904 0.85673057 0.87501546 0.88622964 0.86894455 0.87101629\n",
      " 0.86792414 0.86488353 0.86893424 0.86997526 0.86794475 0.86590394\n",
      " 0.86794475 0.86283241 0.86792414 0.86284271 0.8598021  0.86588332\n",
      " 0.86692435 0.86387343 0.86184292 0.86387343 0.86488353 0.87098536\n",
      " 0.86896516 0.86792414 0.86894455 0.86588332 0.87199546 0.87199546\n",
      " 0.86486291 0.86794475 0.86793445 0.87098536 0.86894455 0.87403628\n",
      " 0.86692435 0.86893424 0.86996496 0.87299526 0.87402597 0.86586271\n",
      " 0.86691404 0.86795506 0.86183261 0.8618223  0.86286333 0.85878169\n",
      " 0.86082251 0.8598021 ]\n",
      "Optimal number of features 7\n"
     ]
    }
   ],
   "source": [
    "# 通过交叉验证的方法，按照固定间隔的百分比筛选特征，并作图展示性能随特征筛选比例的变化。\n",
    "from sklearn.cross_validation import cross_val_score\n",
    "import numpy as np\n",
    "percentiles=range(1, 100, 2)\n",
    "results=[]\n",
    "for i in percentiles:\n",
    "    fs = feature_selection.SelectPercentile(feature_selection.chi2, percentile=i)\n",
    "    X_train_fs = fs.fit_transform(X_train, y_train)\n",
    "    scoress=cross_val_score(dt, X_train_fs, y_train, cv=5)\n",
    "    results=np.append(results, scoress.mean())\n",
    "print results\n",
    "\n",
    "# 找到提现最佳性能的特征筛选的百分比。\n",
    "opt=np.where(results == results.max())[0][0]\n",
    "print 'Optimal number of features %d' %percentiles[opt]"
   ]
  },
  {
   "cell_type": "code",
   "execution_count": 43,
   "metadata": {},
   "outputs": [
    {
     "data": {
      "image/png": "[encoded data removed]",
      "text/plain": [
       "<matplotlib.figure.Figure at 0x7f431a16bb10>"
      ]
     },
     "metadata": {},
     "output_type": "display_data"
    },
    {
     "data": {
      "text/plain": [
       "0.8571428571428571"
      ]
     },
     "execution_count": 43,
     "metadata": {},
     "output_type": "execute_result"
    }
   ],
   "source": [
    "import pylab as pl\n",
    "pl.plot(percentiles, results)\n",
    "pl.xlabel('percentiles of features')\n",
    "pl.ylabel('accuracy')\n",
    "pl.show()\n",
    "\n",
    "# 使用最佳筛选后的特征，利用相同配置的模型在测试集上进行性能评估。\n",
    "from sklearn import feature_selection\n",
    "fs = feature_selection.SelectPercentile(feature_selection.chi2, percentile=7)\n",
    "X_train_fs=fs.fit_transform(X_train, y_train)\n",
    "dt.fit(X_train_fs, y_train)\n",
    "X_test_fs=fs.transform(X_test)\n",
    "dt.score(X_test_fs, y_test)"
   ]
  }
 ],
 "metadata": {
  "kernelspec": {
   "display_name": "Python 2",
   "language": "python",
   "name": "python2"
  },
  "language_info": {
   "codemirror_mode": {
    "name": "ipython",
    "version": 2
   },
   "file_extension": ".py",
   "mimetype": "text/x-python",
   "name": "python",
   "nbconvert_exporter": "python",
   "pygments_lexer": "ipython2",
   "version": "2.7.14"
  }
 },
 "nbformat": 4,
 "nbformat_minor": 2
}
